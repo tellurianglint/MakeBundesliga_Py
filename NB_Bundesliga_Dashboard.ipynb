{
 "cells": [
  {
   "cell_type": "code",
   "execution_count": 3,
   "metadata": {},
   "outputs": [],
   "source": [
    "import pandas as pd\n",
    "\n",
    "#Read the csv File\n",
    "#Try Common Encodings: As a last resort, you can try common encodings like\n",
    "#'utf-8', 'latin1', 'ISO-8859-1', etc., and see if any of them successfully decode the file without errors.\n",
    "df = pd.read_csv('Bundesligadaten.txt', delimiter='\\t', encoding='ISO-8859-1', header=None)\n",
    "\n",
    "df.columns = ['date', 'time', 'localTeam', 'awayTeam', 'result', 'resultHT']\n"
   ]
  },
  {
   "cell_type": "code",
   "execution_count": 4,
   "metadata": {},
   "outputs": [
    {
     "name": "stdout",
     "output_type": "stream",
     "text": [
      "   Fr, 05.08.2022  20:30   Eintracht Frankfurt - FC Bayern München  1:6  (0:5)\n",
      "0  Sa, 06.08.2022  15:30    1. FC Union Berlin        - Hertha BSC  3:1  (1:0)\n",
      "1             NaN    NaN  Bor. Mönchengladbach    - TSG Hoffenheim  3:1  (1:1)\n",
      "2             NaN    NaN           FC Augsburg       - SC Freiburg  0:4  (0:0)\n",
      "3             NaN    NaN            VfL Bochum      - FSV Mainz 05  1:2  (1:1)\n",
      "4             NaN    NaN         VfL Wolfsburg     - Werder Bremen  2:2  (1:2)\n"
     ]
    }
   ],
   "source": [
    "print(df.head())"
   ]
  }
 ],
 "metadata": {
  "kernelspec": {
   "display_name": "Python 3",
   "language": "python",
   "name": "python3"
  },
  "language_info": {
   "codemirror_mode": {
    "name": "ipython",
    "version": 3
   },
   "file_extension": ".py",
   "mimetype": "text/x-python",
   "name": "python",
   "nbconvert_exporter": "python",
   "pygments_lexer": "ipython3",
   "version": "3.10.6"
  }
 },
 "nbformat": 4,
 "nbformat_minor": 2
}
